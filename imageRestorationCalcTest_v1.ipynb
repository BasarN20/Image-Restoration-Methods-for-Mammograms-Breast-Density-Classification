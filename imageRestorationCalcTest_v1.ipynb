{
 "cells": [
  {
   "cell_type": "code",
   "execution_count": 2,
   "id": "fa0ebde3-edbc-4c91-80aa-b72837d80962",
   "metadata": {},
   "outputs": [
    {
     "name": "stdout",
     "output_type": "stream",
     "text": [
      "Yeni dosya kaydedildi: calc_test_updated.csv\n",
      "0\n",
      ".\\CBIS-DDSM\\Calc-Test_P_00038_LEFT_CC\\08-29-2017-DDSM-NA-96009\\1.000000-full mammogram images-63992\n",
      "N:\\CBISDDSM\\calcTest\\CBIS-DDSM\\Calc-Test_P_00038_LEFT_CC\\08-29-2017-DDSM-NA-96009\\1.000000-full mammogram images-63992\\1-1.dcm\n"
     ]
    }
   ],
   "source": [
    "import pandas as pd \n",
    "import os\n",
    "meta_data = pd.read_csv(r'N:\\CBISDDSM\\calcTest\\metadatacsv.csv',delimiter=\";\")\n",
    "calc_test=pd.read_csv(r'N:\\CBISDDSM\\calcTest\\calc_case_description_test_set.csv')\n",
    "# DataFrame'deki 'image file path' sütununu bölme\n",
    "calc_test[['path_part1', 'path_part2', 'path_part3']] = calc_test['image file path'].str.split('/', n=3, expand=True).iloc[:, :3]\n",
    "\n",
    "#print(mass_train.loc[30, ['path_part1', 'path_part2', 'path_part3']])  \n",
    "#print(mass_train.loc[31, ['path_part1', 'path_part2', 'path_part3']])  \n",
    "# mass_train'e yeni bir sütun ekleyerek default olarak NaN atayalım\n",
    "calc_test[\"File Location\"] = None\n",
    "\n",
    "# meta_data'daki ilgili sütunları seçelim\n",
    "meta_data_subset = meta_data[[\"Subject ID\", \"Study UID\", \"Series UID\", \"File Location\"]]\n",
    "\n",
    "# mass_train ile meta_data'yı birleştir\n",
    "merged_df = calc_test.merge(\n",
    "    meta_data_subset,\n",
    "    left_on=[\"path_part1\", \"path_part2\", \"path_part3\"],\n",
    "    right_on=[\"Subject ID\", \"Study UID\", \"Series UID\"],\n",
    "    how=\"left\"  # mass_train'deki tüm satırları koruyalım\n",
    ")\n",
    "\n",
    "# Gereksiz tekrar eden sütunları (Subject ID, Study UID, Series UID) kaldıralım\n",
    "merged_df.drop(columns=[\"Subject ID\", \"Study UID\", \"Series UID\"], inplace=True)\n",
    "\n",
    "# Yeni CSV dosyasını kaydet\n",
    "merged_df.to_csv(r\"N:\\CBISDDSM\\calcTest\\calc_test_updated.csv\", index=False)\n",
    "\n",
    "print(\"Yeni dosya kaydedildi: calc_test_updated.csv\")\n",
    "\n",
    "merged_df=pd.read_csv(r'N:\\CBISDDSM\\calcTest\\calc_test_updated.csv')\n",
    "\n",
    "# Ana dizini belirt\n",
    "print(merged_df[\"File Location_y\"].isna().sum())  # NaN olanların sayısını gösterir\n",
    "print(merged_df.loc[0, \"File Location_y\"])  # İlk satırdaki \"File Location\" değerini yazdır\n",
    "base_path = r\"N:\\CBISDDSM\\calcTest\"\n",
    "\n",
    "# File Location_y sütunundaki yolları güncelle\n",
    "merged_df[\"File Location_y\"] = merged_df[\"File Location_y\"].apply(lambda x: os.path.join(base_path, x.lstrip(\".\\\\\")))\n",
    "merged_df[\"File Location_y\"] = merged_df[\"File Location_y\"].apply(lambda x: os.path.join(x, \"1-1.dcm\"))\n",
    "# Güncellenmiş ilk birkaç satırı görelim\n",
    "# \"File Location_y\" sütunundaki aynı dosya yolunu sadece bir kez tut ve diğerlerini sil\n",
    "merged_df = merged_df.drop_duplicates(subset=\"File Location_y\", keep=\"first\").reset_index(drop=True)\n",
    "\n",
    "merged_df.to_csv(r\"N:\\CBISDDSM\\calcTest\\calc_test_updated.csv\", index=False)\n",
    "\n",
    "merged_df=pd.read_csv(r'N:\\CBISDDSM\\calcTest\\calc_test_updated.csv')\n",
    "print(merged_df.loc[0, \"File Location_y\"])  # İlk satırdaki \"File Location\" değerini yazdır"
   ]
  },
  {
   "cell_type": "code",
   "execution_count": 3,
   "id": "98eb6233-edf5-4524-8332-23498f815e35",
   "metadata": {},
   "outputs": [
    {
     "name": "stdout",
     "output_type": "stream",
     "text": [
      "<class 'pandas.core.frame.DataFrame'>\n",
      "RangeIndex: 284 entries, 0 to 283\n",
      "Data columns (total 19 columns):\n",
      " #   Column                   Non-Null Count  Dtype  \n",
      "---  ------                   --------------  -----  \n",
      " 0   patient_id               284 non-null    object \n",
      " 1   breast density           284 non-null    int64  \n",
      " 2   left or right breast     284 non-null    object \n",
      " 3   image view               284 non-null    object \n",
      " 4   abnormality id           284 non-null    int64  \n",
      " 5   abnormality type         284 non-null    object \n",
      " 6   calc type                280 non-null    object \n",
      " 7   calc distribution        243 non-null    object \n",
      " 8   assessment               284 non-null    int64  \n",
      " 9   pathology                284 non-null    object \n",
      " 10  subtlety                 284 non-null    int64  \n",
      " 11  image file path          284 non-null    object \n",
      " 12  cropped image file path  284 non-null    object \n",
      " 13  ROI mask file path       284 non-null    object \n",
      " 14  path_part1               284 non-null    object \n",
      " 15  path_part2               284 non-null    object \n",
      " 16  path_part3               284 non-null    object \n",
      " 17  File Location_x          0 non-null      float64\n",
      " 18  File Location_y          284 non-null    object \n",
      "dtypes: float64(1), int64(4), object(14)\n",
      "memory usage: 42.3+ KB\n"
     ]
    }
   ],
   "source": [
    "merged_df.info()"
   ]
  },
  {
   "cell_type": "code",
   "execution_count": 4,
   "id": "3db30df5-acea-47ca-86f5-774927044cbc",
   "metadata": {},
   "outputs": [
    {
     "name": "stderr",
     "output_type": "stream",
     "text": [
      "100%|██████████| 284/284 [00:24<00:00, 11.83it/s]\n"
     ]
    }
   ],
   "source": [
    "import os\n",
    "import pydicom\n",
    "import cv2\n",
    "from PIL import Image\n",
    "import numpy as np\n",
    "from tqdm import tqdm  # ilerleme çubuğu için\n",
    "\n",
    "# merged_df DataFrame'inizdeki her satırı işleyelim\n",
    "for idx, row in tqdm(merged_df.iterrows(), total=len(merged_df)):\n",
    "    dcm_path = row[\"File Location_y\"]\n",
    "    png_path = os.path.join(os.path.dirname(dcm_path), \"1-1.png\")  # Aynı dizine .png olarak kaydediliyor\n",
    "\n",
    "    try:\n",
    "        # DICOM dosyasını oku\n",
    "        dicom = pydicom.dcmread(dcm_path)\n",
    "        pixel_array = dicom.pixel_array\n",
    "\n",
    "        # Normalize et (0-255 arası)\n",
    "        pixel_array = cv2.normalize(pixel_array, None, 0, 255, cv2.NORM_MINMAX)\n",
    "        pixel_array = pixel_array.astype(np.uint8)\n",
    "\n",
    "        # Orijinal görüntü boyutlarını al\n",
    "        height, width = pixel_array.shape[:2]\n",
    "\n",
    "        # %4 oranında kırpma değerlerini hesapla\n",
    "        crop_x = int(width * 0.04)\n",
    "        crop_y = int(height * 0.04)\n",
    "\n",
    "        # Görüntüyü kırp: üst, alt, sol ve sağtan %4 içeri\n",
    "        cropped_img = pixel_array[crop_y:height - crop_y, crop_x:width - crop_x]\n",
    "\n",
    "        # Kırpılmış görüntüyü 256x256 boyutuna yeniden boyutlandır\n",
    "        resized_img = cv2.resize(cropped_img, (256, 256))\n",
    "\n",
    "        # Kaydet (grayscale PNG)\n",
    "        Image.fromarray(resized_img).save(png_path)\n",
    "    except Exception as e:\n",
    "        print(f\"Hata oluştu: {dcm_path} -> {e}\")"
   ]
  },
  {
   "cell_type": "code",
   "execution_count": null,
   "id": "2d4d92ab-0d4e-4a06-961d-aca47bf2c34e",
   "metadata": {},
   "outputs": [],
   "source": []
  }
 ],
 "metadata": {
  "kernelspec": {
   "display_name": "Python 3 (ipykernel)",
   "language": "python",
   "name": "python3"
  },
  "language_info": {
   "codemirror_mode": {
    "name": "ipython",
    "version": 3
   },
   "file_extension": ".py",
   "mimetype": "text/x-python",
   "name": "python",
   "nbconvert_exporter": "python",
   "pygments_lexer": "ipython3",
   "version": "3.10.16"
  }
 },
 "nbformat": 4,
 "nbformat_minor": 5
}
