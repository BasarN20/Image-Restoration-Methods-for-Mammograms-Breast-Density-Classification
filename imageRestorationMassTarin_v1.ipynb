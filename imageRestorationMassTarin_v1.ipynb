{
 "cells": [
  {
   "cell_type": "code",
   "execution_count": 6,
   "id": "af5c1af8-fbae-4c63-9974-4a8b7f3df4f5",
   "metadata": {},
   "outputs": [
    {
     "name": "stdout",
     "output_type": "stream",
     "text": [
      "Requirement already satisfied: pydicom in c:\\users\\nurib\\appdata\\local\\programs\\python\\python313\\lib\\site-packages (3.0.1)\n",
      "Note: you may need to restart the kernel to use updated packages.\n"
     ]
    },
    {
     "name": "stderr",
     "output_type": "stream",
     "text": [
      "\n",
      "[notice] A new release of pip is available: 24.3.1 -> 25.0.1\n",
      "[notice] To update, run: python.exe -m pip install --upgrade pip\n"
     ]
    }
   ],
   "source": [
    "pip install pydicom\n",
    "pip install numpy\n",
    "pip install opencv-python\n",
    "pip install matplotlib\n",
    "pip install pandas\n",
    "pip install tqdm"
   ]
  },
  {
   "cell_type": "code",
   "execution_count": 1,
   "id": "39d5590d-ac8f-47de-b6e4-d973633d6397",
   "metadata": {},
   "outputs": [
    {
     "name": "stdout",
     "output_type": "stream",
     "text": [
      "Yeni dosya kaydedildi: mass_train_updated.csv\n",
      "0\n",
      ".\\CBIS-DDSM\\Mass-Training_P_00001_LEFT_CC\\07-20-2016-DDSM-NA-74994\\1.000000-full mammogram images-24515\n",
      "N:\\CBISDDSM\\massTrain\\CBIS-DDSM\\Mass-Training_P_00001_LEFT_CC\\07-20-2016-DDSM-NA-74994\\1.000000-full mammogram images-24515\\1-1.dcm\n"
     ]
    }
   ],
   "source": [
    "import pandas as pd \n",
    "import os\n",
    "meta_data = pd.read_csv(r'N:\\CBISDDSM\\massTrain\\metadatacsv.csv',delimiter=\";\")\n",
    "mass_train=pd.read_csv(r'N:\\CBISDDSM\\massTrain\\mass_case_description_train_set.csv')\n",
    "# DataFrame'deki 'image file path' sütununu bölme\n",
    "mass_train[['path_part1', 'path_part2', 'path_part3']] = mass_train['image file path'].str.split('/', n=3, expand=True).iloc[:, :3]\n",
    "\n",
    "#print(mass_train.loc[30, ['path_part1', 'path_part2', 'path_part3']])  \n",
    "#print(mass_train.loc[31, ['path_part1', 'path_part2', 'path_part3']])  \n",
    "# mass_train'e yeni bir sütun ekleyerek default olarak NaN atayalım\n",
    "mass_train[\"File Location\"] = None\n",
    "\n",
    "# meta_data'daki ilgili sütunları seçelim\n",
    "meta_data_subset = meta_data[[\"Subject ID\", \"Study UID\", \"Series UID\", \"File Location\"]]\n",
    "\n",
    "# mass_train ile meta_data'yı birleştir\n",
    "merged_df = mass_train.merge(\n",
    "    meta_data_subset,\n",
    "    left_on=[\"path_part1\", \"path_part2\", \"path_part3\"],\n",
    "    right_on=[\"Subject ID\", \"Study UID\", \"Series UID\"],\n",
    "    how=\"left\"  # mass_train'deki tüm satırları koruyalım\n",
    ")\n",
    "\n",
    "# Gereksiz tekrar eden sütunları (Subject ID, Study UID, Series UID) kaldıralım\n",
    "merged_df.drop(columns=[\"Subject ID\", \"Study UID\", \"Series UID\"], inplace=True)\n",
    "\n",
    "# Yeni CSV dosyasını kaydet\n",
    "merged_df.to_csv(r\"N:\\CBISDDSM\\massTrain\\mass_train_updated.csv\", index=False)\n",
    "\n",
    "print(\"Yeni dosya kaydedildi: mass_train_updated.csv\")\n",
    "\n",
    "merged_df=pd.read_csv(r'N:\\CBISDDSM\\massTrain\\mass_train_updated.csv')\n",
    "\n",
    "# Ana dizini belirt\n",
    "print(merged_df[\"File Location_y\"].isna().sum())  # NaN olanların sayısını gösterir\n",
    "print(merged_df.loc[0, \"File Location_y\"])  # İlk satırdaki \"File Location\" değerini yazdır\n",
    "base_path = r\"N:\\CBISDDSM\\massTrain\"\n",
    "\n",
    "# File Location_y sütunundaki yolları güncelle\n",
    "merged_df[\"File Location_y\"] = merged_df[\"File Location_y\"].apply(lambda x: os.path.join(base_path, x.lstrip(\".\\\\\")))\n",
    "merged_df[\"File Location_y\"] = merged_df[\"File Location_y\"].apply(lambda x: os.path.join(x, \"1-1.dcm\"))\n",
    "# Güncellenmiş ilk birkaç satırı görelim\n",
    "# \"File Location_y\" sütunundaki aynı dosya yolunu sadece bir kez tut ve diğerlerini sil\n",
    "merged_df = merged_df.drop_duplicates(subset=\"File Location_y\", keep=\"first\").reset_index(drop=True)\n",
    "\n",
    "merged_df.to_csv(r\"N:\\CBISDDSM\\massTrain\\mass_train_updated.csv\", index=False)\n",
    "\n",
    "merged_df=pd.read_csv(r'N:\\CBISDDSM\\massTrain\\mass_train_updated.csv')\n",
    "print(merged_df.loc[0, \"File Location_y\"])  # İlk satırdaki \"File Location\" değerini yazdır"
   ]
  },
  {
   "cell_type": "code",
   "execution_count": 2,
   "id": "d3dd2762-8cad-4d68-878a-f22e442aecc1",
   "metadata": {},
   "outputs": [
    {
     "name": "stdout",
     "output_type": "stream",
     "text": [
      "<class 'pandas.core.frame.DataFrame'>\n",
      "RangeIndex: 1231 entries, 0 to 1230\n",
      "Data columns (total 19 columns):\n",
      " #   Column                   Non-Null Count  Dtype  \n",
      "---  ------                   --------------  -----  \n",
      " 0   patient_id               1231 non-null   object \n",
      " 1   breast_density           1231 non-null   int64  \n",
      " 2   left or right breast     1231 non-null   object \n",
      " 3   image view               1231 non-null   object \n",
      " 4   abnormality id           1231 non-null   int64  \n",
      " 5   abnormality type         1231 non-null   object \n",
      " 6   mass shape               1228 non-null   object \n",
      " 7   mass margins             1193 non-null   object \n",
      " 8   assessment               1231 non-null   int64  \n",
      " 9   pathology                1231 non-null   object \n",
      " 10  subtlety                 1231 non-null   int64  \n",
      " 11  image file path          1231 non-null   object \n",
      " 12  cropped image file path  1231 non-null   object \n",
      " 13  ROI mask file path       1231 non-null   object \n",
      " 14  path_part1               1231 non-null   object \n",
      " 15  path_part2               1231 non-null   object \n",
      " 16  path_part3               1231 non-null   object \n",
      " 17  File Location_x          0 non-null      float64\n",
      " 18  File Location_y          1231 non-null   object \n",
      "dtypes: float64(1), int64(4), object(14)\n",
      "memory usage: 182.9+ KB\n"
     ]
    }
   ],
   "source": [
    "merged_df.info()"
   ]
  },
  {
   "cell_type": "code",
   "execution_count": 3,
   "id": "d53deea7-74dc-4315-b9aa-fca17d71df9d",
   "metadata": {},
   "outputs": [
    {
     "name": "stderr",
     "output_type": "stream",
     "text": [
      "100%|██████████| 1231/1231 [01:44<00:00, 11.75it/s]\n"
     ]
    }
   ],
   "source": [
    "import os\n",
    "import pydicom\n",
    "import cv2\n",
    "from PIL import Image\n",
    "import numpy as np\n",
    "from tqdm import tqdm  # ilerleme çubuğu için\n",
    "\n",
    "# merged_df DataFrame'inizdeki her satırı işleyelim\n",
    "for idx, row in tqdm(merged_df.iterrows(), total=len(merged_df)):\n",
    "    dcm_path = row[\"File Location_y\"]\n",
    "    png_path = os.path.join(os.path.dirname(dcm_path), \"1-1.png\")  # Aynı dizine .png olarak kaydediliyor\n",
    "\n",
    "    try:\n",
    "        # DICOM dosyasını oku\n",
    "        dicom = pydicom.dcmread(dcm_path)\n",
    "        pixel_array = dicom.pixel_array\n",
    "\n",
    "        # Normalize et (0-255 arası)\n",
    "        pixel_array = cv2.normalize(pixel_array, None, 0, 255, cv2.NORM_MINMAX)\n",
    "        pixel_array = pixel_array.astype(np.uint8)\n",
    "\n",
    "        # Orijinal görüntü boyutlarını al\n",
    "        height, width = pixel_array.shape[:2]\n",
    "\n",
    "        # %4 oranında kırpma değerlerini hesapla\n",
    "        crop_x = int(width * 0.04)\n",
    "        crop_y = int(height * 0.04)\n",
    "\n",
    "        # Görüntüyü kırp: üst, alt, sol ve sağtan %4 içeri\n",
    "        cropped_img = pixel_array[crop_y:height - crop_y, crop_x:width - crop_x]\n",
    "\n",
    "        # Kırpılmış görüntüyü 256x256 boyutuna yeniden boyutlandır\n",
    "        resized_img = cv2.resize(cropped_img, (256, 256))\n",
    "\n",
    "        # Kaydet (grayscale PNG)\n",
    "        Image.fromarray(resized_img).save(png_path)\n",
    "    except Exception as e:\n",
    "        print(f\"Hata oluştu: {dcm_path} -> {e}\")\n"
   ]
  }
 ],
 "metadata": {
  "kernelspec": {
   "display_name": "Python 3 (ipykernel)",
   "language": "python",
   "name": "python3"
  },
  "language_info": {
   "codemirror_mode": {
    "name": "ipython",
    "version": 3
   },
   "file_extension": ".py",
   "mimetype": "text/x-python",
   "name": "python",
   "nbconvert_exporter": "python",
   "pygments_lexer": "ipython3",
   "version": "3.10.16"
  }
 },
 "nbformat": 4,
 "nbformat_minor": 5
}
